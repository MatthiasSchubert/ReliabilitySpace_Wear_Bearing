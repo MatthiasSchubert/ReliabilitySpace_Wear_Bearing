{
 "cells": [
  {
   "cell_type": "markdown",
   "id": "5ff83f3e",
   "metadata": {},
   "source": [
    "# reliability.space\n",
    "## Reliability Prediction - FORM\n",
    "## Bearing:     solid lubricant wear model"
   ]
  },
  {
   "cell_type": "markdown",
   "id": "a92bdf4a",
   "metadata": {},
   "source": [
    "For ESA RFP 17225,\n",
    "by Matthias Schubert, 2021-09-23"
   ]
  },
  {
   "cell_type": "markdown",
   "id": "ae9551c2",
   "metadata": {},
   "source": [
    "## General model"
   ]
  },
  {
   "cell_type": "markdown",
   "id": "ccce3c38",
   "metadata": {},
   "source": [
    "Solid lubricant wear modelling is described taking example in a ball bearing. The modelling is applicable to other cases of solid lubricant wear, however, the number of revolution has to be substituted with another measure of sliding distance. \n",
    "For solid lubricant reservoir wear (e.g. cage of a ball bearing), the limit state function for the adhesive wear model is formulated as follows:\n",
    "\n",
    "$g\\left( {\\bf{X}} \\right) = {V_{{\\rm{limit}}}} - \\Theta  \\cdot \\sum\\limits_{i = 1}^{{n_p}} {{K_{H,i}} \\cdot {\\alpha _i} \\cdot re{v_i}}$\n",
    "\n",
    "Where $\\alpha$ denotes the average work of ball/cage interaction forces per revolution and $rev_i$ the number of revolutions in time interval $i$ . The parameter $\\alpha$ will typically be estimated from tests and is, thus dependent on the wear rate $K_H$ , which is used to estimate $\\alpha$ from the test results. Therefore, $K_H$ cannot be easily taken out of the sum.\n",
    "\n",
    "The following calculation is done by using First Order Reliability Analysis (FORM) for one time interval i=1."
   ]
  },
  {
   "cell_type": "code",
   "execution_count": 1,
   "id": "873b3351",
   "metadata": {},
   "outputs": [],
   "source": [
    "# nbi:hide_in\n",
    "#   IMPORTs\n",
    "from IPython.display import display \n",
    "import ipywidgets as widgets \n",
    "from ipywidgets import interact, Layout\n",
    "import numpy as np\n",
    "from scipy.stats import norm\n",
    "import matplotlib\n",
    "from matplotlib import pyplot as plt\n",
    "from ipywidgets import interact\n",
    "import nbinteract as nbi\n",
    "import pyre\n",
    "from pyre import *"
   ]
  },
  {
   "cell_type": "code",
   "execution_count": 2,
   "id": "eac20b4c-ee1d-4603-bff0-0627b2f7c84b",
   "metadata": {},
   "outputs": [],
   "source": [
    "# nbi:hide_in\n",
    "def proF(E_Vlim,COV_Vlim,Dist_Vlim,E_KH,COV_KH,Dist_KH,E_alpha,COV_alpha,Dist_alpha,E_MU,COV_MU,Dist_MU,E_nrev,Rev_per_hour):\n",
    "    \n",
    "    E_vlimit_val = float(E_Vlim)\n",
    "    nu_vlimit_val = float(COV_Vlim)\n",
    "    E_KH_val = float(E_KH)\n",
    "    nu_KH_val = float(COV_KH)\n",
    "    E_alpha_val = float(E_alpha)\n",
    "    nu_alpha_val = float(COV_alpha)\n",
    "    E_theta_val = float(E_MU)\n",
    "    nu_theta_val = float(COV_MU)\n",
    "    rev_val = float(E_nrev)\n",
    "    rev_hour= float(Rev_per_hour)\n",
    "\n",
    "    rev_min=rev_val*0.5;  #for plotting\n",
    "    rev_max=rev_val*2;  #for plotting\n",
    "\n",
    "    mu_R=E_vlimit_val\n",
    "    sigma_R=E_vlimit_val*nu_vlimit_val\n",
    "    x_R_mat=np.linspace(mu_R-sigma_R*4,mu_R+sigma_R*4,50); \n",
    "    \n",
    "    mu_S=E_KH_val*E_alpha_val*E_theta_val*rev_val\n",
    "    cov_S=((nu_KH_val)**2+(nu_alpha_val)**2+(nu_theta_val)**2)**0.5\n",
    "    sigma_S=cov_S*mu_S;\n",
    "    x_S_mat=np.linspace(max(mu_S-sigma_S*3,1e-12),mu_S+sigma_S*6,100)\n",
    "    zeta_S = (np.log(1+(sigma_S/mu_S)**2))**0.5\n",
    "    lamb_S = np.log(mu_S) - 0.5*zeta_S**2\n",
    "    S_pdf=pyre.distributions.lognormal.Lognormal.pdf(x_S_mat,lamb_S,zeta_S)\n",
    "    \n",
    "    #revolutions per hour\n",
    "    #rev_hour=100;\n",
    "    ######################################################\n",
    "\n",
    "\n",
    "    # FORM ANALYSIS PyRe\n",
    "    \n",
    "    \n",
    "    stochastic_model = StochasticModel()\n",
    "    # Define random variables\n",
    "    \n",
    "    if Dist_Vlim=='Normal':\n",
    "        stochastic_model.addVariable( Normal('X1',E_vlimit_val,E_vlimit_val*nu_vlimit_val) )\n",
    "        \n",
    "        R_pdf=pyre.distributions.normal.Normal.pdf(x_R_mat,mu_R,sigma_R)\n",
    "        \n",
    "    elif Dist_Vlim=='LogNormal':\n",
    "        stochastic_model.addVariable( Lognormal('X1',E_vlimit_val,E_vlimit_val*nu_vlimit_val) )\n",
    "        \n",
    "        \n",
    "        #Lognormal\n",
    "        zeta_R = (np.log(1+nu_vlimit_val**2))**0.5\n",
    "        lamb_R = np.log(mu_R) - 0.5*zeta_R**2\n",
    "        R_pdf=pyre.distributions.lognormal.Lognormal.pdf(x_R_mat,lamb_R,zeta_R)\n",
    "    \n",
    "        \n",
    "    elif Dist_Vlim=='Gumbel':\n",
    "        stochastic_model.addVariable( Gumbel('X1',E_vlimit_val,E_vlimit_val*nu_vlimit_val) )\n",
    "    \n",
    "        #Gumbel\n",
    "        a_n_R = np.pi*(sigma_R*np.sqrt(6))**(-1)\n",
    "        u_n_R = mu_R - (0.5772156649*sigma_R*np.sqrt(6))*(np.pi)**(-1)\n",
    "        R_pdf=pyre.distributions.gumbel.Gumbel.pdf(x_R_mat,u_n_R,a_n_R)\n",
    "        \n",
    "    if Dist_KH=='Normal':\n",
    "        stochastic_model.addVariable( Normal('X2',E_KH_val,E_KH_val*nu_KH_val) )\n",
    "        \n",
    "    elif Dist_KH=='LogNormal':\n",
    "        stochastic_model.addVariable( Lognormal('X2',E_KH_val,E_KH_val*nu_KH_val) )\n",
    "        \n",
    "    elif Dist_KH=='Gumbel':\n",
    "        stochastic_model.addVariable( Gumbel('X2',E_KH_val,E_KH_val*nu_KH_val) )\n",
    "    \n",
    "    if Dist_alpha=='Normal':\n",
    "        stochastic_model.addVariable( Normal('X3',E_alpha_val,E_alpha_val*nu_alpha_val) )\n",
    "    elif Dist_alpha=='LogNormal':\n",
    "        stochastic_model.addVariable( Lognormal('X3',E_alpha_val,E_alpha_val*nu_alpha_val) )\n",
    "    elif Dist_alpha=='Gumbel':\n",
    "        stochastic_model.addVariable( Gumbel('X3',E_alpha_val,E_alpha_val*nu_alpha_val) )  \n",
    "        \n",
    "    stochastic_model.addVariable( Lognormal('X4',E_theta_val,E_theta_val*nu_theta_val) )\n",
    "    \n",
    "    stochastic_model.setCorrelation( CorrelationMatrix([[1.0, 0.0, 0.0, 0.0],\n",
    "                                                        [0.0, 1.0, 0.5, 0.0],\n",
    "                                                        [0.0, 0.5, 1.0, 0.0],\n",
    "                                                        [0.0, 0.0, 0.0, 1.0]]) )\n",
    "    \n",
    "    # Set some options (optional)\n",
    "    options = AnalysisOptions()\n",
    "    # options.printResults(False)\n",
    "    #aplha=computeAlpha()\n",
    "\n",
    "    # Define limit state function\n",
    "    limit_state = LimitState(lambda X1,X2,X3,X4: X1-X2*X3*X4*rev_val)\n",
    "    # Performe FORM analysis\n",
    "    Analysis = Form(analysis_options=options, stochastic_model=stochastic_model, limit_state=limit_state)\n",
    "    # Some single results:\n",
    "    beta = Analysis.getBeta()\n",
    "    pf = Analysis.getFailure()\n",
    "    \n",
    "    \n",
    "    \n",
    "    pf_mat=[]\n",
    "    rev_mat=np.linspace(rev_val*0.8,rev_val*1.2,5); \n",
    "    # for plot of the \"Resistance\"\n",
    "    for i_rev in range(rev_mat.shape[0]):\n",
    "        # Define limit state function\n",
    "        limit_state = LimitState(lambda X1,X2,X3,X4: X1-X2*X3*X4*rev_mat[i_rev])\n",
    "        # Performe FORM analysis\n",
    "        options.printResults(False)\n",
    "        Analysis = Form(analysis_options=options, stochastic_model=stochastic_model, limit_state=limit_state)\n",
    "        pf_mat.append(Analysis.getFailure())\n",
    "\n",
    "    \n",
    "    #rev_mat=np.linspace(rev_min,rev_max,50);\n",
    "\n",
    "    #pf_mat=[]\n",
    "    #for i_rev in range(rev_mat.shape[0]):\n",
    "    #        E_x2 = (E_KH_val*E_alpha_val + nu_KH_alpha)*rev_mat[i_rev];\n",
    "    #        nu_x2 = 1/E_x2*rev_mat[i_rev]*np.sqrt(var_KH_alpha);\n",
    "\n",
    "    #       pf_mat.append( norm.cdf((np.log(E_theta_val) - np.log(E_x1/E_x2) + 0.5*(np.log(nu_x1**2 + 1) -  np.log(nu_x2**2 + 1) - np.log(nu_theta_val**2 + 1))) / np.sqrt(np.log( nu_theta_val**2 + 1 ) + np.log( nu_x1**2 + 1 ) + np.log( nu_x2**2 + 1 ))) )\n",
    "\n",
    " \n",
    "    plt.figure(1)\n",
    "    #%matplotlib inline\n",
    "    plt.plot(x_R_mat, R_pdf,'b-')\n",
    "    plt.plot(x_S_mat, S_pdf,'r-')\n",
    "    #plt.plot(np.log10(rev_val), pf,'ro')\n",
    "    plt.xlabel('Volume [m^3]')\n",
    "    plt.ylabel('probability density function')\n",
    "    plt.legend(['Limiting Volume','Volume worn away'])\n",
    "\n",
    "    #plt.yscale('log')\n",
    "    plt.figure(2)\n",
    "    \n",
    "    plt.plot(rev_val/(rev_hour*365*24),pf,'ro')\n",
    "    plt.plot( rev_mat/(rev_hour*365*24),pf_mat,'r--')\n",
    "        \n",
    "    plt.ylabel('probability of failure')\n",
    "    plt.xlabel('years')\n",
    "    #plt.legend(['Limiting Volume','Volume worn away'])\n",
    "    \n",
    "    return 'The probability of failure is pf={} at {} revolutions'.format(pf,rev_val)\n",
    "   "
   ]
  },
  {
   "cell_type": "markdown",
   "id": "9e5dd7e5-3060-441d-8848-87f1e7113be0",
   "metadata": {},
   "source": [
    "## Input values for reliability prediction\n",
    "#### -Limiting value (worn volume), $V_{lim}$ $[m^3]$, described by: Mean Value, Coefficient of Variation and Distribution\n",
    "#### -Specific wear rate, $K_H$ $[Pa^{-1}=m^2/N]$ , described by: Mean Value, Coefficient of Variation and Distribution\n",
    "#### -Ball-cage interaction, $\\alpha$ $[N/m]$ , described by: Mean Value, Coefficient of Variation and Distribution\n",
    "#### -Model uncertainty, $\\Theta$ $[-]$ , described by: Mean Value, Coefficient of Variation, Lognomal distribution\n",
    "#### -Nominal number of revolutions, $rev$ $[ \\# ]$, described by: Integer Value\n",
    "#### -Average number of revolution per hour (for plotting only) "
   ]
  },
  {
   "cell_type": "code",
   "execution_count": 3,
   "id": "f241b1d5-0047-4063-83ac-68b90a366dbf",
   "metadata": {},
   "outputs": [
    {
     "data": {
      "application/vnd.jupyter.widget-view+json": {
       "model_id": "ec897b8310734624a4eec62c0f72cbf6",
       "version_major": 2,
       "version_minor": 0
      },
      "text/plain": [
       "interactive(children=(Text(value='6.5e-8', description='E_Vlim'), Text(value='0.2', description='COV_Vlim'), D…"
      ]
     },
     "metadata": {},
     "output_type": "display_data"
    },
    {
     "data": {
      "image/png": "[encoded data removed]",
      "text/plain": [
       "<Figure size 432x288 with 1 Axes>"
      ]
     },
     "metadata": {
      "needs_background": "light"
     },
     "output_type": "display_data"
    },
    {
     "data": {
      "image/png": "[encoded data removed]",
      "text/plain": [
       "<Figure size 432x288 with 1 Axes>"
      ]
     },
     "metadata": {
      "needs_background": "light"
     },
     "output_type": "display_data"
    }
   ],
   "source": [
    "# nbi:hide_in\n",
    "interact(proF, E_Vlim='6.5e-8', COV_Vlim='0.2', Dist_Vlim={'LogNormal', 'Normal','Gumbel'}, E_KH='4e-15', COV_KH='0.66', Dist_KH={'LogNormal', 'Normal','Gumbel'}, E_alpha='0.018', COV_alpha='0.2', Dist_alpha={'LogNormal', 'Normal','Gumbel'}, E_MU='1.0', COV_MU='0.2', Dist_MU={'LogNormal'}, E_nrev='245e+6',Rev_per_hour='1000');"
   ]
  }
 ],
 "metadata": {
  "kernelspec": {
   "display_name": "Python 3 (ipykernel)",
   "language": "python",
   "name": "python3"
  },
  "language_info": {
   "codemirror_mode": {
    "name": "ipython",
    "version": 3
   },
   "file_extension": ".py",
   "mimetype": "text/x-python",
   "name": "python",
   "nbconvert_exporter": "python",
   "pygments_lexer": "ipython3",
   "version": "3.7.10"
  },
  "widgets": {
   "state": {
    "22ea00fffbee4f46961dd5ea7ffcf700": {
     "views": [
      {
       "cell_index": 11
      }
     ]
    },
    "2de67b7b7a1447edbc0e91aa70c76648": {
     "views": [
      {
       "cell_index": 8
      }
     ]
    },
    "524b148e79714d0dbe85485c1ff51f38": {
     "views": [
      {
       "cell_index": 24
      }
     ]
    },
    "7366de862a02405fab8fc32adcadb0d3": {
     "views": [
      {
       "cell_index": 8
      }
     ]
    },
    "7cb3f3570a3b4ecaa0317fca906f6abb": {
     "views": [
      {
       "cell_index": 17
      }
     ]
    },
    "86de5981dec240c28a1ac069cbaf2935": {
     "views": [
      {
       "cell_index": 13
      }
     ]
    },
    "8e31192019484534b83183be86d5d316": {
     "views": [
      {
       "cell_index": 8
      }
     ]
    },
    "974421a2c12f4c628466219075447458": {
     "views": [
      {
       "cell_index": 13
      }
     ]
    },
    "974d69c13fe948cfaf5fb8e388bbcbdc": {
     "views": [
      {
       "cell_index": 13
      }
     ]
    },
    "b23ba940214141e9900a3070a4117cd0": {
     "views": [
      {
       "cell_index": 15
      }
     ]
    },
    "b72b8a684f194743aebb0c094994b447": {
     "views": [
      {
       "cell_index": 11
      }
     ]
    },
    "bb484098f3674f578934e2f2860f0db5": {
     "views": [
      {
       "cell_index": 15
      }
     ]
    },
    "c3543ef432744b7c99453496c0fac9cf": {
     "views": [
      {
       "cell_index": 11
      }
     ]
    },
    "dc537f8822cd4909bf69bdbfbb7b6e5a": {
     "views": [
      {
       "cell_index": 15
      }
     ]
    }
   },
   "version": "1.2.0"
  }
 },
 "nbformat": 4,
 "nbformat_minor": 5
}
