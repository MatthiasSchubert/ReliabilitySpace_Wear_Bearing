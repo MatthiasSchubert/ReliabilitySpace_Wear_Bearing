{
 "cells": [
  {
   "cell_type": "markdown",
   "id": "5ff83f3e",
   "metadata": {},
   "source": [
    "# reliability.space\n",
    "# Reliability Prediction - FORM\n",
    "# Bearing:     solid lubricant wear model"
   ]
  },
  {
   "cell_type": "markdown",
   "id": "ccd35327",
   "metadata": {},
   "source": [
    "# by Matthias Schubert, 2021-09-20"
   ]
  },
  {
   "cell_type": "markdown",
   "id": "a92bdf4a",
   "metadata": {},
   "source": [
    "For ESA RFP 17225"
   ]
  },
  {
   "cell_type": "markdown",
   "id": "ae9551c2",
   "metadata": {},
   "source": [
    "## General model"
   ]
  },
  {
   "cell_type": "markdown",
   "id": "ccce3c38",
   "metadata": {},
   "source": [
    "Solid lubricant wear modelling is described taking example in a ball bearing. The modelling is applicable to other cases of solid lubricant wear, however, the number of revolution has to be substituted with another measure of sliding distance. \n",
    "For solid lubricant reservoir wear (e.g. cage of a ball bearing), the limit state function for the adhesive wear model is formulated as follows:\n",
    "\n",
    "$g\\left( {\\bf{X}} \\right) = {V_{{\\rm{limit}}}} - \\Theta  \\cdot \\sum\\limits_{i = 1}^{{n_p}} {{K_{H,i}} \\cdot {\\alpha _i} \\cdot re{v_i}}$\n",
    "\n",
    "Where $\\alpha$ denotes the average work of ball/cage interaction forces per revolution and $rev_i$ the number of revolutions in time interval $i$ . The parameter $\\alpha$ will typically be estimated from tests and is, thus dependent on the wear rate $K_H$ , which is used to estimate $\\alpha$ from the test results. Therefore, $K_H$ cannot be easily taken out of the sum.\n",
    "\n",
    "The following calculation is done by using First Order Reliability Analysis (FORM) for one time interval i=1."
   ]
  },
  {
   "cell_type": "code",
   "execution_count": 1,
   "id": "873b3351",
   "metadata": {},
   "outputs": [
    {
     "name": "stdout",
     "output_type": "stream",
     "text": [
      "Collecting git+git://github.com/hackl/pyre.git\n",
      "  Cloning git://github.com/hackl/pyre.git to /tmp/pip-req-build-72o_al49\n",
      "  Running command git clone -q git://github.com/hackl/pyre.git /tmp/pip-req-build-72o_al49\n",
      "  Resolved git://github.com/hackl/pyre.git to commit b6b3d40f9b5e57a1c89d88322301f65103fd459d\n",
      "Requirement already satisfied: numpy in /srv/conda/envs/notebook/lib/python3.7/site-packages (from pyre==5.0.3) (1.21.2)\n",
      "Requirement already satisfied: scipy in /srv/conda/envs/notebook/lib/python3.7/site-packages (from pyre==5.0.3) (1.7.1)\n"
     ]
    }
   ],
   "source": [
    "# nbi:hide_in\n",
    "#   IMPORTs\n",
    "from IPython.display import display \n",
    "import ipywidgets as widgets \n",
    "from ipywidgets import interact, Layout\n",
    "import numpy as np\n",
    "from scipy.stats import norm\n",
    "from matplotlib import pyplot as plt\n",
    "from ipywidgets import interact\n",
    "import nbinteract as nbi\n",
    "\n",
    "!pip install git+git://github.com/hackl/pyre.git\n",
    "import pyre\n",
    "from pyre import *"
   ]
  },
  {
   "cell_type": "code",
   "execution_count": 2,
   "id": "eac20b4c-ee1d-4603-bff0-0627b2f7c84b",
   "metadata": {},
   "outputs": [],
   "source": [
    "# nbi:hide_in\n",
    "def proF(E_Vlim,COV_Vlim,Dist_Vlim,E_KH,COV_KH,Dist_KH,E_alpha,COV_alpha,Dist_alpha,E_MU,COV_MU,Dist_MU,E_nrev):\n",
    "    \n",
    "    E_vlimit_val = float(E_Vlim)\n",
    "    nu_vlimit_val = float(COV_Vlim)\n",
    "    E_KH_val = float(E_KH)\n",
    "    nu_KH_val = float(COV_KH)\n",
    "    E_alpha_val = float(E_alpha)\n",
    "    nu_alpha_val = float(COV_alpha)\n",
    "    E_theta_val = float(E_MU)\n",
    "    nu_theta_val = float(COV_MU)\n",
    "    rev_val = float(E_nrev)\n",
    "\n",
    "    rev_min=rev_val*0.5;  #for plotting\n",
    "    rev_max=rev_val*2;  #for plotting\n",
    "\n",
    "    #revolutions per hour\n",
    "    rev_hour=6;\n",
    "    ######################################################\n",
    "\n",
    "\n",
    "    # FORM ANALYSIS PyRe\n",
    "    # Define limit state function\n",
    "    limit_state = LimitState(lambda X1,X2,X3,X4: X1-X2*X3*X4*rev_val)\n",
    "    stochastic_model = StochasticModel()\n",
    "    # Define random variables\n",
    "    \n",
    "    if Dist_Vlim=='Normal':\n",
    "        stochastic_model.addVariable( Normal('X1',E_vlimit_val,E_vlimit_val*nu_vlimit_val) )\n",
    "    elif Dist_Vlim=='LogNormal':\n",
    "        stochastic_model.addVariable( Lognormal('X1',E_vlimit_val,E_vlimit_val*nu_vlimit_val) )\n",
    "    elif Dist_Vlim=='Gumbel':\n",
    "        stochastic_model.addVariable( Gumbel('X1',E_vlimit_val,E_vlimit_val*nu_vlimit_val) )\n",
    "    \n",
    "    if Dist_KH=='Normal':\n",
    "        stochastic_model.addVariable( Normal('X2',E_KH_val,E_KH_val*nu_KH_val) )\n",
    "    elif Dist_KH=='LogNormal':\n",
    "        stochastic_model.addVariable( Lognormal('X2',E_KH_val,E_KH_val*nu_KH_val) )\n",
    "    elif Dist_KH=='Gumbel':\n",
    "        stochastic_model.addVariable( Gumbel('X2',E_KH_val,E_KH_val*nu_KH_val) )\n",
    "    \n",
    "    if Dist_alpha=='Normal':\n",
    "        stochastic_model.addVariable( Normal('X3',E_alpha_val,E_alpha_val*nu_alpha_val) )\n",
    "    elif Dist_alpha=='LogNormal':\n",
    "        stochastic_model.addVariable( Lognormal('X3',E_alpha_val,E_alpha_val*nu_alpha_val) )\n",
    "    elif Dist_alpha=='Gumbel':\n",
    "        stochastic_model.addVariable( Gumbel('X3',E_alpha_val,E_alpha_val*nu_alpha_val) )  \n",
    "        \n",
    "    stochastic_model.addVariable( Lognormal('X4',E_theta_val,E_theta_val*nu_theta_val) )\n",
    "    \n",
    "    stochastic_model.setCorrelation( CorrelationMatrix([[1.0, 0.0, 0.0, 0.0],\n",
    "                                                        [0.0, 1.0, 0.5, 0.0],\n",
    "                                                        [0.0, 0.5, 1.0, 0.0],\n",
    "                                                        [0.0, 0.0, 0.0, 1.0]]) )\n",
    "    \n",
    "    # Set some options (optional)\n",
    "    options = AnalysisOptions()\n",
    "    # options.printResults(False)\n",
    "    \n",
    "    # Performe FORM analysis\n",
    "    Analysis = Form(analysis_options=options, stochastic_model=stochastic_model, limit_state=limit_state)\n",
    "\n",
    "    # Some single results:\n",
    "    beta = Analysis.getBeta()\n",
    "    pf = Analysis.getFailure()\n",
    "\n",
    "    \n",
    "    #rev_mat=np.linspace(rev_min,rev_max,50);\n",
    "\n",
    "    #pf_mat=[]\n",
    "    #for i_rev in range(rev_mat.shape[0]):\n",
    "    #        E_x2 = (E_KH_val*E_alpha_val + nu_KH_alpha)*rev_mat[i_rev];\n",
    "    #        nu_x2 = 1/E_x2*rev_mat[i_rev]*np.sqrt(var_KH_alpha);\n",
    "\n",
    "    #       pf_mat.append( norm.cdf((np.log(E_theta_val) - np.log(E_x1/E_x2) + 0.5*(np.log(nu_x1**2 + 1) -  np.log(nu_x2**2 + 1) - np.log(nu_theta_val**2 + 1))) / np.sqrt(np.log( nu_theta_val**2 + 1 ) + np.log( nu_x1**2 + 1 ) + np.log( nu_x2**2 + 1 ))) )\n",
    "\n",
    "    #%matplotlib inline\n",
    "    #plt.plot(np.log10(rev_mat), pf_mat,'b-')\n",
    "    #plt.plot(np.log10(rev_val), pf,'ro')\n",
    "    #plt.xlabel('$log_{10}$(number of revolutions)\\n solid lubricant wear model')\n",
    "    #plt.ylabel('Probability of failure $P_f(rev)$')\n",
    "    #plt.yscale('log')\n",
    "        \n",
    "   \n",
    "    return 'The probability of failure is pf={} at {} revolutions'.format(pf,rev_val)"
   ]
  },
  {
   "cell_type": "markdown",
   "id": "9e5dd7e5-3060-441d-8848-87f1e7113be0",
   "metadata": {},
   "source": [
    "## Input values for reliability prediction\n",
    "#### -Limiting value (worn volume), $V_{lim}$ $[m^3]$\n",
    "#### -Specific wear rate, $K_H$ $[Pa^{-1}=m^2/N]$\n",
    "#### -Ball-cage interaction, $\\alpha$ $[N/m]$\n",
    "#### -Model uncertainty, $\\Theta$ $[-]$\n",
    "#### -Nominal number of revolutions, $rev$ $[ \\# ]$"
   ]
  },
  {
   "cell_type": "code",
   "execution_count": 3,
   "id": "f241b1d5-0047-4063-83ac-68b90a366dbf",
   "metadata": {},
   "outputs": [
    {
     "data": {
      "application/vnd.jupyter.widget-view+json": {
       "model_id": "1f5573a250cb42699ee46f49e9b7736c",
       "version_major": 2,
       "version_minor": 0
      },
      "text/plain": [
       "interactive(children=(Text(value='6.5e-8', description='E_Vlim'), Text(value='0.2', description='COV_Vlim'), D…"
      ]
     },
     "metadata": {},
     "output_type": "display_data"
    }
   ],
   "source": [
    "# nbi:hide_in\n",
    "interact(proF, E_Vlim='6.5e-8', COV_Vlim='0.2', Dist_Vlim={'LogNormal', 'Normal','Gumbel'}, E_KH='4e-15', COV_KH='0.66', Dist_KH={'LogNormal', 'Normal','Gumbel'}, E_alpha='0.018', COV_alpha='0.2', Dist_alpha={'LogNormal', 'Normal','Gumbel'}, E_MU='1.0', COV_MU='0.2', Dist_MU={'LogNormal'}, E_nrev='245e+6');"
   ]
  },
  {
   "cell_type": "code",
   "execution_count": 4,
   "id": "737d82d4-8e99-49b2-8f69-e1f913e3bb25",
   "metadata": {},
   "outputs": [],
   "source": [
    "# nbi:hide_in"
   ]
  }
 ],
 "metadata": {
  "kernelspec": {
   "display_name": "Python 3 (ipykernel)",
   "language": "python",
   "name": "python3"
  },
  "language_info": {
   "codemirror_mode": {
    "name": "ipython",
    "version": 3
   },
   "file_extension": ".py",
   "mimetype": "text/x-python",
   "name": "python",
   "nbconvert_exporter": "python",
   "pygments_lexer": "ipython3",
   "version": "3.7.10"
  },
  "widgets": {
   "state": {
    "22ea00fffbee4f46961dd5ea7ffcf700": {
     "views": [
      {
       "cell_index": 11
      }
     ]
    },
    "2de67b7b7a1447edbc0e91aa70c76648": {
     "views": [
      {
       "cell_index": 8
      }
     ]
    },
    "524b148e79714d0dbe85485c1ff51f38": {
     "views": [
      {
       "cell_index": 24
      }
     ]
    },
    "7366de862a02405fab8fc32adcadb0d3": {
     "views": [
      {
       "cell_index": 8
      }
     ]
    },
    "7cb3f3570a3b4ecaa0317fca906f6abb": {
     "views": [
      {
       "cell_index": 17
      }
     ]
    },
    "86de5981dec240c28a1ac069cbaf2935": {
     "views": [
      {
       "cell_index": 13
      }
     ]
    },
    "8e31192019484534b83183be86d5d316": {
     "views": [
      {
       "cell_index": 8
      }
     ]
    },
    "974421a2c12f4c628466219075447458": {
     "views": [
      {
       "cell_index": 13
      }
     ]
    },
    "974d69c13fe948cfaf5fb8e388bbcbdc": {
     "views": [
      {
       "cell_index": 13
      }
     ]
    },
    "b23ba940214141e9900a3070a4117cd0": {
     "views": [
      {
       "cell_index": 15
      }
     ]
    },
    "b72b8a684f194743aebb0c094994b447": {
     "views": [
      {
       "cell_index": 11
      }
     ]
    },
    "bb484098f3674f578934e2f2860f0db5": {
     "views": [
      {
       "cell_index": 15
      }
     ]
    },
    "c3543ef432744b7c99453496c0fac9cf": {
     "views": [
      {
       "cell_index": 11
      }
     ]
    },
    "dc537f8822cd4909bf69bdbfbb7b6e5a": {
     "views": [
      {
       "cell_index": 15
      }
     ]
    }
   },
   "version": "1.2.0"
  }
 },
 "nbformat": 4,
 "nbformat_minor": 5
}
