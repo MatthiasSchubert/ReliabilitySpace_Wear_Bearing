{
 "cells": [
  {
   "cell_type": "markdown",
   "id": "5ff83f3e",
   "metadata": {},
   "source": [
    "# reliability.space\n",
    "# simplified reliability prediction\n",
    "# Bearing:     solid lubricant wear model"
   ]
  },
  {
   "cell_type": "markdown",
   "id": "ccd35327",
   "metadata": {},
   "source": [
    "by Matthias Schubert, 2021-09-20"
   ]
  },
  {
   "cell_type": "markdown",
   "id": "a92bdf4a",
   "metadata": {},
   "source": [
    "For ESA RFP 17225"
   ]
  },
  {
   "cell_type": "markdown",
   "id": "ae9551c2",
   "metadata": {},
   "source": [
    "## General model"
   ]
  },
  {
   "cell_type": "markdown",
   "id": "ccce3c38",
   "metadata": {},
   "source": [
    "Solid lubricant wear modelling is described taking example in a ball bearing. The modelling is applicable to other cases of solid lubricant wear, however, the number of revolution has to be substituted with another measure of sliding distance. \n",
    "For solid lubricant reservoir wear (e.g. cage of a ball bearing), the limit state function for the adhesive wear model is formulated as follows:\n",
    "\n",
    "$g\\left( {\\bf{X}} \\right) = {V_{{\\rm{limit}}}} - \\Theta  \\cdot \\sum\\limits_{i = 1}^{{n_p}} {{K_{H,i}} \\cdot {\\alpha _i} \\cdot re{v_i}}$\n",
    "\n",
    "Where $\\alpha$ denotes the average work of ball/cage interaction forces per revolution and $rev_i$ the number of revolutions in time interval $i$ . The parameter $\\alpha$ will typically be estimated from tests and is, thus dependent on the wear rate $K_H$ , which is used to estimate $\\alpha$ from the test results. Therefore, $K_H$ cannot be easily taken out of the sum."
   ]
  },
  {
   "cell_type": "code",
   "execution_count": 1,
   "id": "873b3351",
   "metadata": {},
   "outputs": [],
   "source": [
    "#   IMPORTs\n",
    "from IPython.display import display \n",
    "import ipywidgets as widgets \n",
    "from ipywidgets import interact, Layout\n",
    "import numpy as np\n",
    "from scipy.stats import norm\n",
    "from matplotlib import pyplot as plt\n",
    "from ipywidgets import interact\n",
    "import nbinteract as nbi"
   ]
  },
  {
   "cell_type": "code",
   "execution_count": 2,
   "id": "eac20b4c-ee1d-4603-bff0-0627b2f7c84b",
   "metadata": {},
   "outputs": [],
   "source": [
    "def proF(E_Vlim,COV_Vlim,Dist_Vlim,E_KH,COV_KH,Dist_KH,E_alpha,COV_alpha,Dist_alpha,E_MU,COV_MU,Dist_MU,E_nrev):\n",
    "    \n",
    "    E_vlimit_val = float(E_Vlim)\n",
    "    nu_vlimit_val = float(COV_Vlim)\n",
    "    E_KH_val = float(E_KH)\n",
    "    nu_KH_val = float(COV_KH)\n",
    "    E_alpha_val = float(E_alpha)\n",
    "    nu_alpha_val = float(COV_alpha)\n",
    "    E_theta_val = float(E_MU)\n",
    "    nu_theta_val = float(COV_MU)\n",
    "    rev_val = float(E_nrev)\n",
    "\n",
    "\n",
    "    rev_min=rev_val*0.5;  #for plotting\n",
    "    rev_max=rev_val*2;  #for plotting\n",
    "\n",
    "    #revolutions per hour\n",
    "    rev_hour=6;\n",
    "    ######################################################\n",
    "\n",
    "    # Transfer parameters\n",
    "    E_x1 = E_vlimit_val;\n",
    "    nu_x1 = nu_vlimit_val;\n",
    "    nu_KH_alpha = E_KH_val*nu_KH_val * E_alpha_val*nu_alpha_val;\n",
    "    var_KH = (E_KH_val*nu_KH_val)**2;\n",
    "    var_alpha = (E_alpha_val*nu_alpha_val)**2;\n",
    "    var_KH_alpha = var_KH*var_alpha + var_KH*E_alpha_val**2 + var_alpha*E_KH_val**2;\n",
    "    E_x2 = (E_KH_val*E_alpha_val + nu_KH_alpha)*rev_val;\n",
    "    nu_x2 = 1/E_x2*rev_val*np.sqrt(var_KH_alpha);\n",
    "  \n",
    "    #Simplifid model - next step is to replace by FORM using\n",
    "    #Hackl toolbox Phyton (documentation: http://hackl.github.io/pyre/; Code: http://github.com/hackl/pyre <http://github.com/hackl/pyre )\n",
    "    pf = norm.cdf((np.log(E_theta_val) - np.log(E_x1/E_x2) + 0.5*(np.log(nu_x1**2 + 1) - np.log(nu_x2**2 + 1) - np.log(nu_theta_val**2 + 1))) / np.sqrt(np.log( nu_theta_val**2 + 1 ) + \n",
    "    np.log( nu_x1**2 + 1 ) + np.log( nu_x2**2 + 1 )));\n",
    "\n",
    "\n",
    "    rev_mat=np.linspace(rev_min,rev_max,50);\n",
    "\n",
    "    pf_mat=[]\n",
    "    for i_rev in range(rev_mat.shape[0]):\n",
    "            E_x2 = (E_KH_val*E_alpha_val + nu_KH_alpha)*rev_mat[i_rev];\n",
    "            nu_x2 = 1/E_x2*rev_mat[i_rev]*np.sqrt(var_KH_alpha);\n",
    "\n",
    "            pf_mat.append( norm.cdf((np.log(E_theta_val) - np.log(E_x1/E_x2) + 0.5*(np.log(nu_x1**2 + 1) -  np.log(nu_x2**2 + 1) - np.log(nu_theta_val**2 + 1))) / np.sqrt(np.log( nu_theta_val**2 + 1 ) + np.log( nu_x1**2 + 1 ) + np.log( nu_x2**2 + 1 ))) )\n",
    "\n",
    "    %matplotlib inline\n",
    "    plt.plot(np.log10(rev_mat), pf_mat,'b-')\n",
    "    plt.plot(np.log10(rev_val), pf,'ro')\n",
    "    plt.xlabel('$log_{10}$(number of revolutions)\\n solid lubricant wear model')\n",
    "    plt.ylabel('Probability of failure $P_f(rev)$')\n",
    "    plt.yscale('log')\n",
    "        \n",
    "   \n",
    "    return 'The probability of failure is pf={}'.format(pf)"
   ]
  },
  {
   "cell_type": "code",
   "execution_count": 3,
   "id": "ff68924a",
   "metadata": {},
   "outputs": [],
   "source": [
    "from IPython.display import HTML"
   ]
  },
  {
   "cell_type": "code",
   "execution_count": 4,
   "id": "94498c01",
   "metadata": {},
   "outputs": [
    {
     "data": {
      "text/html": [
       "<script>\n",
       "code_show=true; \n",
       "function code_toggle() {\n",
       " if (code_show){\n",
       " $('div.input').hide();\n",
       " } else {\n",
       " $('div.input').show();\n",
       " }\n",
       " code_show = !code_show\n",
       "} \n",
       "$( document ).ready(code_toggle);\n",
       "</script>\n",
       "The raw code for this IPython notebook is by default hidden for easier reading.\n",
       "To toggle on/off the raw code, click <a href=\"javascript:code_toggle()\">here</a>."
      ],
      "text/plain": [
       "<IPython.core.display.HTML object>"
      ]
     },
     "execution_count": 4,
     "metadata": {},
     "output_type": "execute_result"
    }
   ],
   "source": [
    "HTML('''<script>\n",
    "code_show=true; \n",
    "function code_toggle() {\n",
    " if (code_show){\n",
    " $('div.input').hide();\n",
    " } else {\n",
    " $('div.input').show();\n",
    " }\n",
    " code_show = !code_show\n",
    "} \n",
    "$( document ).ready(code_toggle);\n",
    "</script>\n",
    "The raw code for this IPython notebook is by default hidden for easier reading.\n",
    "To toggle on/off the raw code, click <a href=\"javascript:code_toggle()\">here</a>.''')"
   ]
  },
  {
   "cell_type": "markdown",
   "id": "9e5dd7e5-3060-441d-8848-87f1e7113be0",
   "metadata": {},
   "source": [
    "## Input values for reliability prediction\n",
    "#### -Limiting value (worn volume), $V_{lim}$ $[m^3]$\n",
    "#### -Specific wear rate, $K_H$ $[Pa^{-1}=m^2/N]$\n",
    "#### -Ball-cage interaction, $\\alpha$ $[N/m]$\n",
    "#### -Model uncertainty, $\\Theta$ $[-]$\n",
    "#### -Nominal number of revolutions, $rev$ $[ \\# ]$"
   ]
  },
  {
   "cell_type": "code",
   "execution_count": 5,
   "id": "f241b1d5-0047-4063-83ac-68b90a366dbf",
   "metadata": {},
   "outputs": [
    {
     "data": {
      "application/vnd.jupyter.widget-view+json": {
       "model_id": "f1b986956285469b8ac8eb6cfc2e7453",
       "version_major": 2,
       "version_minor": 0
      },
      "text/plain": [
       "interactive(children=(Text(value='6.5e-8', description='E_Vlim'), Text(value='0.2', description='COV_Vlim'), D…"
      ]
     },
     "metadata": {},
     "output_type": "display_data"
    },
    {
     "data": {
      "image/png": "[encoded data removed]",
      "text/plain": [
       "<Figure size 432x288 with 1 Axes>"
      ]
     },
     "metadata": {
      "needs_background": "light"
     },
     "output_type": "display_data"
    }
   ],
   "source": [
    "interact(proF, E_Vlim='6.5e-8', COV_Vlim='0.2', Dist_Vlim={'LogNormal', 'Normal','Gumbel'}, E_KH='4e-15', COV_KH='0.66', Dist_KH={'LogNormal', 'Normal','Gumbel'}, E_alpha='0.018', COV_alpha='0.2', Dist_alpha={'LogNormal', 'Normal','Gumbel'}, E_MU='1.2', COV_MU='0.2', Dist_MU={'LogNormal', 'Normal','Gumbel'}, E_nrev='245e+6');"
   ]
  },
  {
   "cell_type": "code",
   "execution_count": null,
   "id": "737d82d4-8e99-49b2-8f69-e1f913e3bb25",
   "metadata": {},
   "outputs": [],
   "source": []
  }
 ],
 "metadata": {
  "kernelspec": {
   "display_name": "Python 3 (ipykernel)",
   "language": "python",
   "name": "python3"
  },
  "language_info": {
   "codemirror_mode": {
    "name": "ipython",
    "version": 3
   },
   "file_extension": ".py",
   "mimetype": "text/x-python",
   "name": "python",
   "nbconvert_exporter": "python",
   "pygments_lexer": "ipython3",
   "version": "3.7.10"
  },
  "widgets": {
   "state": {
    "22ea00fffbee4f46961dd5ea7ffcf700": {
     "views": [
      {
       "cell_index": 11
      }
     ]
    },
    "2de67b7b7a1447edbc0e91aa70c76648": {
     "views": [
      {
       "cell_index": 8
      }
     ]
    },
    "524b148e79714d0dbe85485c1ff51f38": {
     "views": [
      {
       "cell_index": 24
      }
     ]
    },
    "7366de862a02405fab8fc32adcadb0d3": {
     "views": [
      {
       "cell_index": 8
      }
     ]
    },
    "7cb3f3570a3b4ecaa0317fca906f6abb": {
     "views": [
      {
       "cell_index": 17
      }
     ]
    },
    "86de5981dec240c28a1ac069cbaf2935": {
     "views": [
      {
       "cell_index": 13
      }
     ]
    },
    "8e31192019484534b83183be86d5d316": {
     "views": [
      {
       "cell_index": 8
      }
     ]
    },
    "974421a2c12f4c628466219075447458": {
     "views": [
      {
       "cell_index": 13
      }
     ]
    },
    "974d69c13fe948cfaf5fb8e388bbcbdc": {
     "views": [
      {
       "cell_index": 13
      }
     ]
    },
    "b23ba940214141e9900a3070a4117cd0": {
     "views": [
      {
       "cell_index": 15
      }
     ]
    },
    "b72b8a684f194743aebb0c094994b447": {
     "views": [
      {
       "cell_index": 11
      }
     ]
    },
    "bb484098f3674f578934e2f2860f0db5": {
     "views": [
      {
       "cell_index": 15
      }
     ]
    },
    "c3543ef432744b7c99453496c0fac9cf": {
     "views": [
      {
       "cell_index": 11
      }
     ]
    },
    "dc537f8822cd4909bf69bdbfbb7b6e5a": {
     "views": [
      {
       "cell_index": 15
      }
     ]
    }
   },
   "version": "1.2.0"
  }
 },
 "nbformat": 4,
 "nbformat_minor": 5
}
