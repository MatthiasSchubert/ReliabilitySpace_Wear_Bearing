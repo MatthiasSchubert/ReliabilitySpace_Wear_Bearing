{
 "cells": [
  {
   "cell_type": "markdown",
   "id": "5ff83f3e",
   "metadata": {},
   "source": [
    "# reliability.space\n",
    "# simplified reliability prediction\n",
    "# Bearing:     solid lubricant wear model"
   ]
  },
  {
   "cell_type": "markdown",
   "id": "ccd35327",
   "metadata": {},
   "source": [
    "by Matthias Schubert, Matrisk GmbH, 2021-09-16"
   ]
  },
  {
   "cell_type": "markdown",
   "id": "a92bdf4a",
   "metadata": {},
   "source": [
    "For ESA RFP 17225"
   ]
  },
  {
   "cell_type": "markdown",
   "id": "ae9551c2",
   "metadata": {},
   "source": [
    "## General model"
   ]
  },
  {
   "cell_type": "markdown",
   "id": "ccce3c38",
   "metadata": {},
   "source": [
    "Solid lubricant wear modelling is described taking example in a ball bearing. The modelling is applicable to other cases of solid lubricant wear, however, the number of revolution has to be substituted with another measure of sliding distance. \n",
    "For solid lubricant reservoir wear (e.g. cage of a ball bearing), the limit state function for the adhesive wear model is formulated as follows:\n",
    "\n",
    "$g\\left( {\\bf{X}} \\right) = {V_{{\\rm{limit}}}} - \\Theta  \\cdot \\sum\\limits_{i = 1}^{{n_p}} {{K_{H,i}} \\cdot {\\alpha _i} \\cdot re{v_i}}$\n",
    "\n",
    "Where $\\alpha$ denotes the average work of ball/cage interaction forces per revolution and $rev_i$ the number of revolutions in time interval $i$ . The parameter $\\alpha$ will typically be estimated from tests and is, thus dependent on the wear rate $K_H$ , which is used to estimate $\\alpha$ from the test results. Therefore, $K_H$ cannot be easily taken out of the sum."
   ]
  },
  {
   "cell_type": "code",
   "execution_count": 1,
   "id": "873b3351",
   "metadata": {},
   "outputs": [],
   "source": [
    "#   IMPORTs\n",
    "from IPython.display import display \n",
    "import ipywidgets as widgets \n",
    "from ipywidgets import interact, Layout\n",
    "import numpy as np\n",
    "from scipy.stats import norm\n",
    "from matplotlib import pyplot as plt\n",
    "import nbinteract as nbi\n",
    "from IPython.display import HTML"
   ]
  },
  {
   "cell_type": "markdown",
   "id": "71170326",
   "metadata": {},
   "source": [
    "## Input values for reliability prediction"
   ]
  },
  {
   "cell_type": "markdown",
   "id": "67509385",
   "metadata": {},
   "source": [
    "#### Limiting value (worn volume), $V_{lim}$ $[m^3]$"
   ]
  },
  {
   "cell_type": "code",
   "execution_count": 2,
   "id": "4bb92b1b",
   "metadata": {},
   "outputs": [
    {
     "data": {
      "application/vnd.jupyter.widget-view+json": {
       "model_id": "055991b7a7cc4551bc131466c7343f42",
       "version_major": 2,
       "version_minor": 0
      },
      "text/plain": [
       "Text(value='6.5e-8', description='$E[V_{lim}]:$')"
      ]
     },
     "metadata": {},
     "output_type": "display_data"
    },
    {
     "data": {
      "application/vnd.jupyter.widget-view+json": {
       "model_id": "dc33050da1604da3a9050d3336931090",
       "version_major": 2,
       "version_minor": 0
      },
      "text/plain": [
       "Text(value='0.2', description='$CoV[V_{lim}]:$')"
      ]
     },
     "metadata": {},
     "output_type": "display_data"
    },
    {
     "data": {
      "application/vnd.jupyter.widget-view+json": {
       "model_id": "00888f7a1a2342648cebda409f2eccdf",
       "version_major": 2,
       "version_minor": 0
      },
      "text/plain": [
       "Dropdown(description='Dist.-Type: ', index=1, options=('N', 'LN', 'G'), value='LN')"
      ]
     },
     "metadata": {},
     "output_type": "display_data"
    }
   ],
   "source": [
    "E_vlimit = widgets.Text(value='6.5e-8', description='$E[V_{lim}]:$');display(E_vlimit);\n",
    "nu_vlimit = widgets.Text(value='0.2', description='$CoV[V_{lim}]:$');display(nu_vlimit);\n",
    "dt_vlimit = widgets.Dropdown(options=['N', 'LN', 'G'], value='LN', description='Dist.-Type: ');display(dt_vlimit); "
   ]
  },
  {
   "cell_type": "markdown",
   "id": "fbdc969b",
   "metadata": {},
   "source": [
    "### Specific wear rate, $K_H$ $[Pa^{-1}=m^2/N]$\n"
   ]
  },
  {
   "cell_type": "markdown",
   "id": "93987a4a",
   "metadata": {},
   "source": [
    "Mean value and Coefficient of Variation"
   ]
  },
  {
   "cell_type": "code",
   "execution_count": 3,
   "id": "9e5b88aa",
   "metadata": {},
   "outputs": [
    {
     "data": {
      "application/vnd.jupyter.widget-view+json": {
       "model_id": "e761d45ed18842d99e4819097fb01a4c",
       "version_major": 2,
       "version_minor": 0
      },
      "text/plain": [
       "Text(value='4e-15', description='$E[K_{H}]:$')"
      ]
     },
     "metadata": {},
     "output_type": "display_data"
    },
    {
     "data": {
      "application/vnd.jupyter.widget-view+json": {
       "model_id": "6c88903c4d554114b93bf1a9e87060ef",
       "version_major": 2,
       "version_minor": 0
      },
      "text/plain": [
       "Text(value='0.66', description='$CoV[K_{H}]:$')"
      ]
     },
     "metadata": {},
     "output_type": "display_data"
    },
    {
     "data": {
      "application/vnd.jupyter.widget-view+json": {
       "model_id": "074f495b36bc4720a685340eaadb09a9",
       "version_major": 2,
       "version_minor": 0
      },
      "text/plain": [
       "Dropdown(description='Dist.-Type: ', index=1, options=('N', 'LN', 'G'), value='LN')"
      ]
     },
     "metadata": {},
     "output_type": "display_data"
    }
   ],
   "source": [
    "E_KH = widgets.Text(value='4e-15', description='$E[K_{H}]:$');display(E_KH);\n",
    "nu_KH = widgets.Text(value='0.66', description='$CoV[K_{H}]:$');display(nu_KH);\n",
    "dt_KH = widgets.Dropdown(options=['N', 'LN', 'G'], value='LN', description='Dist.-Type: ');display(dt_KH);"
   ]
  },
  {
   "cell_type": "markdown",
   "id": "c21dae86",
   "metadata": {},
   "source": [
    "### Ball-cage interaction, $\\alpha$ $[N/m]$\n"
   ]
  },
  {
   "cell_type": "code",
   "execution_count": 4,
   "id": "4f5416fe",
   "metadata": {},
   "outputs": [
    {
     "data": {
      "application/vnd.jupyter.widget-view+json": {
       "model_id": "19b8de6b63a8497399b839640af0cba7",
       "version_major": 2,
       "version_minor": 0
      },
      "text/plain": [
       "Text(value='0.018', description='$E[\\\\alpha]:$')"
      ]
     },
     "metadata": {},
     "output_type": "display_data"
    },
    {
     "data": {
      "application/vnd.jupyter.widget-view+json": {
       "model_id": "8a2ed327ca5249b0a6f5f487ae8e3c25",
       "version_major": 2,
       "version_minor": 0
      },
      "text/plain": [
       "Text(value='0.2', description='$CoV[\\\\alpha]:$')"
      ]
     },
     "metadata": {},
     "output_type": "display_data"
    },
    {
     "data": {
      "application/vnd.jupyter.widget-view+json": {
       "model_id": "e43a90a586264361a943bc5ae6fa0785",
       "version_major": 2,
       "version_minor": 0
      },
      "text/plain": [
       "Dropdown(description='Dist.-Type: ', index=1, options=('N', 'LN', 'G'), value='LN')"
      ]
     },
     "metadata": {},
     "output_type": "display_data"
    }
   ],
   "source": [
    "E_alpha = widgets.Text(value='0.018', description='$E[\\\\alpha]:$');display(E_alpha);\n",
    "nu_alpha = widgets.Text(value='0.2', description='$CoV[\\\\alpha]:$');display(nu_alpha);\n",
    "dt_alpha = widgets.Dropdown(options=['N', 'LN', 'G'], value='LN', description='Dist.-Type: ');display(dt_alpha);"
   ]
  },
  {
   "cell_type": "markdown",
   "id": "a90f99f7",
   "metadata": {},
   "source": [
    "### Model uncertainty, $\\Theta$ $[-]$"
   ]
  },
  {
   "cell_type": "code",
   "execution_count": 5,
   "id": "bdb16e04",
   "metadata": {},
   "outputs": [
    {
     "data": {
      "application/vnd.jupyter.widget-view+json": {
       "model_id": "999d88a25c06455faac02f12ff163ee8",
       "version_major": 2,
       "version_minor": 0
      },
      "text/plain": [
       "Text(value='1.2', description='$E[\\\\Theta]:$')"
      ]
     },
     "metadata": {},
     "output_type": "display_data"
    },
    {
     "data": {
      "application/vnd.jupyter.widget-view+json": {
       "model_id": "76a530f4ec2d47688ba116677c449862",
       "version_major": 2,
       "version_minor": 0
      },
      "text/plain": [
       "Text(value='0.2', description='$CoV[\\\\Theta]:$')"
      ]
     },
     "metadata": {},
     "output_type": "display_data"
    },
    {
     "data": {
      "application/vnd.jupyter.widget-view+json": {
       "model_id": "788afd0227474ce99a3f558482e78d65",
       "version_major": 2,
       "version_minor": 0
      },
      "text/plain": [
       "Dropdown(description='Dist.-Type: ', index=1, options=('N', 'LN', 'G'), value='LN')"
      ]
     },
     "metadata": {},
     "output_type": "display_data"
    }
   ],
   "source": [
    "E_theta = widgets.Text(value='1.2', description='$E[\\\\Theta]:$');display(E_theta);\n",
    "nu_theta = widgets.Text(value='0.2', description='$CoV[\\\\Theta]:$');display(nu_theta);\n",
    "dt_theta = widgets.Dropdown(options=['N', 'LN', 'G'], value='LN', description='Dist.-Type: ');display(dt_theta);"
   ]
  },
  {
   "cell_type": "markdown",
   "id": "697ef12e",
   "metadata": {},
   "source": [
    "### Nominal number of revolutions, $rev$ $[ \\# ]$"
   ]
  },
  {
   "cell_type": "code",
   "execution_count": 6,
   "id": "0ec8eb3f",
   "metadata": {},
   "outputs": [
    {
     "data": {
      "application/vnd.jupyter.widget-view+json": {
       "model_id": "236d7d46339840eb9a07c67b0b87e07f",
       "version_major": 2,
       "version_minor": 0
      },
      "text/plain": [
       "Text(value='245e+6', description='$rev$')"
      ]
     },
     "metadata": {},
     "output_type": "display_data"
    }
   ],
   "source": [
    "rev = widgets.Text(value='245e+6', description='$rev$');display(rev);"
   ]
  },
  {
   "cell_type": "code",
   "execution_count": 7,
   "id": "9048a0bd",
   "metadata": {},
   "outputs": [],
   "source": [
    "#   text to float\n",
    "E_vlimit_val = float(E_vlimit.value)\n",
    "nu_vlimit_val = float(nu_vlimit.value)\n",
    "E_KH_val = float(E_KH.value)\n",
    "nu_KH_val = float(nu_KH.value)\n",
    "E_alpha_val = float(E_alpha.value)\n",
    "nu_alpha_val = float(nu_alpha.value)\n",
    "E_theta_val = float(E_theta.value)\n",
    "nu_theta_val = float(nu_theta.value)\n",
    "rev_val = float(rev.value)\n",
    "\n",
    "\n",
    "rev_min=rev_val*0.5;  #for plotting\n",
    "rev_max=rev_val*1.5;  #for plotting\n"
   ]
  },
  {
   "cell_type": "code",
   "execution_count": 8,
   "id": "0daa1b37",
   "metadata": {},
   "outputs": [],
   "source": [
    "\n",
    "#revolutions per hour\n",
    "rev_hour=6;\n",
    "######################################################\n",
    "\n",
    "# Transfer parameters\n",
    "E_x1 = E_vlimit_val;\n",
    "nu_x1 = nu_vlimit_val;\n",
    "nu_KH_alpha = E_KH_val*nu_KH_val * E_alpha_val*nu_alpha_val;\n",
    "var_KH = (E_KH_val*nu_KH_val)**2;\n",
    "var_alpha = (E_alpha_val*nu_alpha_val)**2;\n",
    "var_KH_alpha = var_KH*var_alpha + var_KH*E_alpha_val**2 + var_alpha*E_KH_val**2;\n",
    "E_x2 = (E_KH_val*E_alpha_val + nu_KH_alpha)*rev_val;\n",
    "nu_x2 = 1/E_x2*rev_val*np.sqrt(var_KH_alpha);"
   ]
  },
  {
   "cell_type": "code",
   "execution_count": 9,
   "id": "1d582e87",
   "metadata": {},
   "outputs": [],
   "source": [
    "#Analytical approximation simplified model\n",
    "pf = norm.cdf((np.log(E_theta_val) - np.log(E_x1/E_x2) + 0.5*(np.log(nu_x1**2 + 1) - np.log(nu_x2**2 + 1) - np.log(nu_theta_val**2 + 1))) / np.sqrt(np.log( nu_theta_val**2 + 1 ) + \n",
    "np.log( nu_x1**2 + 1 ) + np.log( nu_x2**2 + 1 )));\n",
    "rev_mat=np.linspace(rev_min,rev_max,50);\n",
    "\n"
   ]
  },
  {
   "cell_type": "code",
   "execution_count": 10,
   "id": "47250011",
   "metadata": {},
   "outputs": [],
   "source": [
    "pf_mat=[]\n",
    "for i_rev in range(rev_mat.shape[0]):\n",
    "        E_x2 = (E_KH_val*E_alpha_val + nu_KH_alpha)*rev_mat[i_rev];\n",
    "        nu_x2 = 1/E_x2*rev_mat[i_rev]*np.sqrt(var_KH_alpha);\n",
    "    \n",
    "        pf_mat.append( norm.cdf((np.log(E_theta_val) - np.log(E_x1/E_x2) + 0.5*(np.log(nu_x1**2 + 1) -  np.log(nu_x2**2 + 1) - np.log(nu_theta_val**2 + 1))) / np.sqrt(np.log( nu_theta_val**2 + 1 ) + np.log( nu_x1**2 + 1 ) + np.log( nu_x2**2 + 1 ))) )\n"
   ]
  },
  {
   "cell_type": "markdown",
   "id": "156054f3",
   "metadata": {},
   "source": [
    "### Result - Probability of failure as a function of the numer of revolutions in the bearing"
   ]
  },
  {
   "cell_type": "code",
   "execution_count": 11,
   "id": "76aa5e39",
   "metadata": {},
   "outputs": [
    {
     "data": {
      "image/png": "[encoded data removed]",
      "text/plain": [
       "<Figure size 432x288 with 1 Axes>"
      ]
     },
     "metadata": {
      "needs_background": "light"
     },
     "output_type": "display_data"
    }
   ],
   "source": [
    "%matplotlib inline\n",
    "plt.plot(np.log10(rev_mat), pf_mat,'b-')\n",
    "plt.plot(np.log10(rev_val), pf,'ro')\n",
    "plt.xlabel('$log_{10}$(number of revolutions)\\n solid lubricant wear model')\n",
    "plt.ylabel('Probability of failure $P_f(rev)$')\n",
    "plt.yscale('log')\n"
   ]
  },
  {
   "cell_type": "code",
   "execution_count": 12,
   "id": "077d8d75",
   "metadata": {},
   "outputs": [
    {
     "data": {
      "application/vnd.jupyter.widget-view+json": {
       "model_id": "bbb663df24c745058907478a1d202891",
       "version_major": 2,
       "version_minor": 0
      },
      "text/plain": [
       "Text(value='0.03391272089227932', description='$P_f=$')"
      ]
     },
     "metadata": {},
     "output_type": "display_data"
    }
   ],
   "source": [
    "pf_txt = widgets.Text(value=str(pf), description='$P_f=$');display(pf_txt);"
   ]
  }
 ],
 "metadata": {
  "kernelspec": {
   "display_name": "Python 3 (ipykernel)",
   "language": "python",
   "name": "python3"
  },
  "language_info": {
   "codemirror_mode": {
    "name": "ipython",
    "version": 3
   },
   "file_extension": ".py",
   "mimetype": "text/x-python",
   "name": "python",
   "nbconvert_exporter": "python",
   "pygments_lexer": "ipython3",
   "version": "3.7.10"
  },
  "widgets": {
   "state": {
    "22ea00fffbee4f46961dd5ea7ffcf700": {
     "views": [
      {
       "cell_index": 11
      }
     ]
    },
    "2de67b7b7a1447edbc0e91aa70c76648": {
     "views": [
      {
       "cell_index": 8
      }
     ]
    },
    "524b148e79714d0dbe85485c1ff51f38": {
     "views": [
      {
       "cell_index": 24
      }
     ]
    },
    "7366de862a02405fab8fc32adcadb0d3": {
     "views": [
      {
       "cell_index": 8
      }
     ]
    },
    "7cb3f3570a3b4ecaa0317fca906f6abb": {
     "views": [
      {
       "cell_index": 17
      }
     ]
    },
    "86de5981dec240c28a1ac069cbaf2935": {
     "views": [
      {
       "cell_index": 13
      }
     ]
    },
    "8e31192019484534b83183be86d5d316": {
     "views": [
      {
       "cell_index": 8
      }
     ]
    },
    "974421a2c12f4c628466219075447458": {
     "views": [
      {
       "cell_index": 13
      }
     ]
    },
    "974d69c13fe948cfaf5fb8e388bbcbdc": {
     "views": [
      {
       "cell_index": 13
      }
     ]
    },
    "b23ba940214141e9900a3070a4117cd0": {
     "views": [
      {
       "cell_index": 15
      }
     ]
    },
    "b72b8a684f194743aebb0c094994b447": {
     "views": [
      {
       "cell_index": 11
      }
     ]
    },
    "bb484098f3674f578934e2f2860f0db5": {
     "views": [
      {
       "cell_index": 15
      }
     ]
    },
    "c3543ef432744b7c99453496c0fac9cf": {
     "views": [
      {
       "cell_index": 11
      }
     ]
    },
    "dc537f8822cd4909bf69bdbfbb7b6e5a": {
     "views": [
      {
       "cell_index": 15
      }
     ]
    }
   },
   "version": "1.2.0"
  }
 },
 "nbformat": 4,
 "nbformat_minor": 5
}
